{
 "cells": [
  {
   "cell_type": "code",
   "execution_count": 14,
   "id": "bec371fe",
   "metadata": {},
   "outputs": [
    {
     "name": "stdout",
     "output_type": "stream",
     "text": [
      "0\n",
      "cpu\n"
     ]
    }
   ],
   "source": [
    "import datetime\n",
    "import itertools\n",
    "import os\n",
    "import pickle\n",
    "import scipy\n",
    "import matplotlib\n",
    "import matplotlib.pyplot as plt\n",
    "import numpy as np\n",
    "import torch\n",
    "import torch.nn as nn\n",
    "import torch.optim as optim\n",
    "from scipy.io import savemat\n",
    "import scipy.io as sio\n",
    "import sys\n",
    "import importlib\n",
    "from tempfile import TemporaryFile\n",
    "import seaborn as sns\n",
    "import sklearn as sk\n",
    "import math\n",
    "import argparse\n",
    "from sklearn import preprocessing\n",
    "from pypower.api import case30, case118\n",
    "from pypower.api import opf, makeYbus, makeB\n",
    "from pypower import idx_bus, idx_gen, ppoption\n",
    "from torch.nn import Linear, ReLU\n",
    "from torch_geometric.nn import GCNConv, Sequential\n",
    "from torch.utils.data import TensorDataset, DataLoader\n",
    "def str_to_bool(value):\n",
    "    if isinstance(value, bool):\n",
    "        return value\n",
    "    if value.lower() in {'false', 'f', '0', 'no', 'n'}:\n",
    "        return False\n",
    "    elif value.lower() in {'true', 't', '1', 'yes', 'y'}:\n",
    "        return True\n",
    "    raise ValueError('{value} is not a valid boolean value')\n",
    "print(torch.cuda.device_count())\n",
    "DEVICE = torch.device(\"cuda:0\") if torch.cuda.is_available() else torch.device(\"cpu\")\n",
    "print(DEVICE)"
   ]
  },
  {
   "cell_type": "code",
   "execution_count": 2,
   "id": "b6afd343",
   "metadata": {},
   "outputs": [],
   "source": [
    "case_name = \"case30\"\n",
    "data_dir = \"data/\"\n",
    "case_dir = os.path.join(data_dir, case_name)\n",
    "bus_number = 30\n",
    "sample_number = 20000"
   ]
  },
  {
   "cell_type": "code",
   "execution_count": 3,
   "id": "b023ebb8",
   "metadata": {},
   "outputs": [
    {
     "name": "stdout",
     "output_type": "stream",
     "text": [
      "(20000, 30)\n",
      "(20000, 30)\n",
      "(20000, 60)\n",
      "(20000, 30, 2)\n",
      "the labels are angle and magnitude now\n",
      "(20000, 30, 2)\n"
     ]
    }
   ],
   "source": [
    "mat_input = os.path.join(data_dir, case_name, 'outputdata_sample.mat')\n",
    "mat_ang = os.path.join(data_dir, case_name, 'voltage_ang.mat')\n",
    "mat_mag = os.path.join(data_dir, case_name, 'voltage_mag.mat')\n",
    "\n",
    "#voltage magnitude and angle\n",
    "voltage_ang = np.transpose(scipy.io.loadmat(mat_ang)['voltage_ang'])[0:sample_number,:]\n",
    "voltage_mag = np.transpose(scipy.io.loadmat(mat_mag)['voltage_mag'])[0:sample_number,:]\n",
    "voltage = np.concatenate([voltage_ang,voltage_mag], axis=1) \n",
    "voltage_2d = np.dstack([voltage_ang,voltage_mag]) \n",
    "print(voltage_ang.shape)\n",
    "print(voltage_mag.shape)\n",
    "print(voltage.shape)\n",
    "print(voltage_2d.shape)\n",
    "print('the labels are angle and magnitude now')\n",
    "\n",
    "#nodal power injection\n",
    "PQ_injection = np.transpose(scipy.io.loadmat(mat_input)['power_injection'])[0:sample_number,:]\n",
    "P_injection = PQ_injection.real\n",
    "Q_injection = PQ_injection.imag\n",
    "\n",
    "# PQ_injection = np.concatenate([P_injection, Q_injection], axis=1)\n",
    "# PQ_injection = min_max_scaler.fit_transform(PQ_injection)\n",
    "# P_injection = PQ_injection[:,0:30]\n",
    "# Q_injection = PQ_injection[:,30:60]\n",
    "PQ_injection_2d = np.dstack((P_injection,Q_injection)) \n",
    "print(PQ_injection_2d.shape)"
   ]
  },
  {
   "cell_type": "code",
   "execution_count": 4,
   "id": "6ee111af",
   "metadata": {},
   "outputs": [],
   "source": [
    "CASE_FNS = dict([(30, case30)])\n",
    "ppc = CASE_FNS[30]()"
   ]
  },
  {
   "cell_type": "code",
   "execution_count": 5,
   "id": "45e7c477",
   "metadata": {},
   "outputs": [
    {
     "name": "stdout",
     "output_type": "stream",
     "text": [
      "torch.Size([2, 41])\n",
      "torch.Size([41])\n"
     ]
    }
   ],
   "source": [
    "# edge index, 2 * the number of edges\n",
    "# the first list contains the index of the source nodes, \n",
    "# while the index of target nodes is specified in the second list.\n",
    "edge_index = torch.tensor(ppc['branch'][:,0:2].transpose(), dtype=torch.long) - 1\n",
    "edge_weight = torch.zeros(ppc['branch'].shape[0], dtype=torch.double)\n",
    "print(edge_index.shape)\n",
    "print(edge_weight.shape)"
   ]
  },
  {
   "cell_type": "code",
   "execution_count": 6,
   "id": "775d1a63",
   "metadata": {},
   "outputs": [],
   "source": [
    "def adjacency_from_net(node_number, scaling=1, threshold=0):\n",
    "    N = node_number\n",
    "    G = np.zeros((N, N))\n",
    "    for i in range(ppc['branch'].shape[0]):\n",
    "        from_node = int(ppc['branch'][i,0])-1\n",
    "        to_node = int(ppc['branch'][i,1])-1\n",
    "        impedance = np.array([ppc['branch'][i,2], ppc['branch'][i,3]])\n",
    "        impedance_norm =  np.linalg.norm(impedance)\n",
    "        value = np.math.exp(- (impedance_norm**2) * scaling)\n",
    "        if value > threshold:\n",
    "            edge_weight[i] = value\n",
    "            G[from_node,to_node] = value\n",
    "            G[to_node, from_node] = value\n",
    "    return G, edge_weight"
   ]
  },
  {
   "cell_type": "code",
   "execution_count": 7,
   "id": "0e1161f5",
   "metadata": {},
   "outputs": [
    {
     "data": {
      "text/plain": [
       "(30, 30)"
      ]
     },
     "execution_count": 7,
     "metadata": {},
     "output_type": "execute_result"
    }
   ],
   "source": [
    "graph_adj, edge_weight = adjacency_from_net(node_number = bus_number, scaling=10, threshold=0.001)\n",
    "# graph_adj = graph_adj.reshape([1,graph_adj.shape[0],graph_adj.shape[0]])\n",
    "graph_adj.shape"
   ]
  },
  {
   "cell_type": "code",
   "execution_count": 9,
   "id": "29ecf8ea",
   "metadata": {},
   "outputs": [
    {
     "name": "stdout",
     "output_type": "stream",
     "text": [
      "{'epochs': 200, 'batchSize': 32, 'lr': 0.0001, 'inputChannel': 2, 'outputChannel': 2, 'hiddenSize': 50, 'hiddenSize_MLP': 50, 'hiddenLayer_MLP': 1, 'OutputSize_MLP': 60}\n"
     ]
    }
   ],
   "source": [
    "parser = argparse.ArgumentParser(description='GCN')\n",
    "parser.add_argument('--epochs', type=int, default=200,\n",
    "    help='number of neural network epochs')\n",
    "parser.add_argument('--batchSize', type=int,  default=32,\n",
    "    help='training batch size')\n",
    "parser.add_argument('--lr', type=float, default=0.0001,\n",
    "    help='neural network learning rate')\n",
    "parser.add_argument('--inputChannel', type=int, default=2,\n",
    "    help='input feature size for neural network')\n",
    "parser.add_argument('--outputChannel', type=int, default=2,\n",
    "    help='output feature size for neural network')\n",
    "parser.add_argument('--hiddenSize', type=int, default=50,\n",
    "    help='hidden layer size for neural network')\n",
    "parser.add_argument('--hiddenSize_MLP', type=int, default=50,\n",
    "    help='hidden layer size for neural network')\n",
    "parser.add_argument('--hiddenLayer_MLP', type=int, default=1,\n",
    "    help='hidden layer size for neural network')\n",
    "parser.add_argument('--OutputSize_MLP', type=int, default=bus_number*2,\n",
    "    help='hidden layer size for neural network')\n",
    "\n",
    "args = parser.parse_args([])\n",
    "args = vars(args) # change to dictionary\n",
    "print(args)"
   ]
  },
  {
   "cell_type": "code",
   "execution_count": 10,
   "id": "db0f921e",
   "metadata": {},
   "outputs": [],
   "source": [
    "solver_step = args['lr']\n",
    "nepochs = args['epochs']\n",
    "batch_size = args['batchSize']"
   ]
  },
  {
   "cell_type": "code",
   "execution_count": 11,
   "id": "98db1e9b",
   "metadata": {},
   "outputs": [],
   "source": [
    "dataset = TensorDataset(torch.tensor(PQ_injection_2d), torch.tensor(voltage_2d))\n",
    "valid_frac = 0.08\n",
    "test_frac = 0.08\n",
    "train_frac = 1 - valid_frac - test_frac\n",
    "train_size = sample_number * train_frac\n",
    "\n",
    "trainX = PQ_injection_2d[:int(sample_number * train_frac)]\n",
    "\n",
    "validX = PQ_injection_2d[int(sample_number * train_frac):int(sample_number * (train_frac + valid_frac))]\n",
    "\n",
    "testX = PQ_injection_2d[int(sample_number * (train_frac + valid_frac)):]\n",
    "\n",
    "trainY = voltage[:int(sample_number * train_frac)]\n",
    "\n",
    "validY = voltage[int(sample_number * train_frac):int(sample_number * (train_frac + valid_frac))]\n",
    "\n",
    "testY = voltage[int(sample_number * (train_frac + valid_frac)):]\n",
    "\n",
    "train_dataset = TensorDataset(torch.tensor(trainX), torch.tensor(trainY))\n",
    "valid_dataset = TensorDataset(torch.tensor(validX), torch.tensor(validY))\n",
    "test_dataset = TensorDataset(torch.tensor(testX), torch.tensor(testY))\n",
    "\n",
    "train_loader = DataLoader(train_dataset, batch_size=batch_size, shuffle=True)\n",
    "valid_loader = DataLoader(valid_dataset, batch_size=len(valid_dataset))\n",
    "test_loader = DataLoader(test_dataset, batch_size=len(test_dataset))"
   ]
  },
  {
   "cell_type": "code",
   "execution_count": 12,
   "id": "9a8df939",
   "metadata": {},
   "outputs": [],
   "source": [
    "class GCN(torch.nn.Module):\n",
    "    def __init__(self):\n",
    "        super().__init__()\n",
    "            \n",
    "        self.model = Sequential('x, edge_index, edge_weight', [\n",
    "            (GCNConv(args['inputChannel'], args['hiddenSize']), 'x, edge_index, edge_weight -> x'),\n",
    "            ReLU(inplace=True),\n",
    "            (GCNConv(args['hiddenSize'], args['hiddenSize']), 'x, edge_index, edge_weight -> x'),\n",
    "            ReLU(inplace=True),\n",
    "            (GCNConv(args['hiddenSize'], args['outputChannel']), 'x, edge_index, edge_weight -> x'),\n",
    "        ])\n",
    "        \n",
    "        dimInputMLP = bus_number * args['outputChannel']\n",
    "        \n",
    "        self.MLP = nn.Sequential(\n",
    "            nn.Linear(dimInputMLP, args['hiddenSize_MLP']),\n",
    "            nn.ReLU(inplace=True),\n",
    "            nn.Linear(args['hiddenSize_MLP'], args['OutputSize_MLP'])\n",
    "        )   \n",
    "        \n",
    "    def forward(self, x, edge_index, edge_weight):\n",
    "        \n",
    "        h = self.model(x, edge_index, edge_weight)\n",
    "        \n",
    "        h = torch.flatten(torch.permute(h, (0, 2, 1)), start_dim=1)\n",
    "        \n",
    "        out = self.MLP(h)\n",
    "        \n",
    "        return out"
   ]
  },
  {
   "cell_type": "code",
   "execution_count": 15,
   "id": "62215793",
   "metadata": {},
   "outputs": [],
   "source": [
    "solver_net = GCN().double()\n",
    "solver_net.to(DEVICE)\n",
    "solver_opt = optim.Adam(solver_net.parameters(), lr=solver_step)\n",
    "\n",
    "stats = {}\n",
    "batch_loss = []\n",
    "epoch_loss = []\n",
    "\n",
    "loss = nn.MSELoss()"
   ]
  },
  {
   "cell_type": "code",
   "execution_count": null,
   "id": "add0bfd5",
   "metadata": {},
   "outputs": [
    {
     "name": "stdout",
     "output_type": "stream",
     "text": [
      "Epoch 0: train loss 0.16173571, valid loss 0.00124389,\n"
     ]
    }
   ],
   "source": [
    "for i in range(nepochs):\n",
    "    epoch_stats = {}\n",
    "\n",
    "    # Get train loss\n",
    "    solver_net.train()\n",
    "    for Xtrain, Ytrain in train_loader:\n",
    "        Xtrain = Xtrain.to(DEVICE)\n",
    "        Ytrain = Ytrain.to(DEVICE)\n",
    "        Yhat_train = solver_net(Xtrain, edge_index, edge_weight)\n",
    "        \n",
    "        solver_opt.zero_grad()\n",
    "        \n",
    "        # Compute loss\n",
    "        train_loss = loss(Yhat_train, Ytrain)\n",
    "\n",
    "        # Compute gradients\n",
    "        train_loss.backward()\n",
    "\n",
    "        # Optimize\n",
    "        solver_opt.step()\n",
    "        \n",
    "        batch_loss.append(train_loss.detach().cpu().numpy())\n",
    "        \n",
    "    for Xvalid, Yvalid in valid_loader:\n",
    "        Xvalid = Xvalid.to(DEVICE)\n",
    "        Yvalid = Yvalid.to(DEVICE)\n",
    "        Yhat_valid = solver_net(Xvalid, edge_index, edge_weight)\n",
    "        valid_loss = loss(Yhat_valid, Yvalid)\n",
    "    print(\n",
    "        'Epoch {}: train loss {:.8f}, valid loss {:.8f},'.format(\n",
    "            i, np.mean(batch_loss), valid_loss))\n",
    "    \n",
    "    epoch_loss.append(np.mean(batch_loss))\n",
    "    batch_loss = []"
   ]
  },
  {
   "cell_type": "code",
   "execution_count": 286,
   "id": "46512a0b",
   "metadata": {},
   "outputs": [],
   "source": [
    "for Xtest, Ytest in test_loader:\n",
    "    \n",
    "    Xtest = Xtest.to(DEVICE)\n",
    "    Ytest = Ytest.to(DEVICE)\n",
    "    \n",
    "    Yhat_test = solver_net(Xvalid, edge_index, edge_weight)\n",
    "\n",
    "    test_loss = loss(Yhat_test, Ytest)"
   ]
  },
  {
   "cell_type": "code",
   "execution_count": null,
   "id": "e5af58c2",
   "metadata": {},
   "outputs": [],
   "source": []
  }
 ],
 "metadata": {
  "kernelspec": {
   "display_name": "Python 3 (ipykernel)",
   "language": "python",
   "name": "python3"
  },
  "language_info": {
   "codemirror_mode": {
    "name": "ipython",
    "version": 3
   },
   "file_extension": ".py",
   "mimetype": "text/x-python",
   "name": "python",
   "nbconvert_exporter": "python",
   "pygments_lexer": "ipython3",
   "version": "3.7.15"
  }
 },
 "nbformat": 4,
 "nbformat_minor": 5
}
